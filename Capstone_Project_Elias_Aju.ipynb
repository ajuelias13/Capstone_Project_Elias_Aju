{
 "cells": [
  {
   "cell_type": "markdown",
   "id": "bf639418-2e01-4b7f-af3b-314b7dfa3d9a",
   "metadata": {},
   "source": [
    "# Income Level Prediction \n",
    "\n",
    "**Project Overview**\n",
    "\n",
    "The aim of this project is to develop a machine learning model to predict whether a person’s income exceeds $50K per year based on census data. By leveraging various features from the census dataset, I will explore the data, engineer relevant features, build and evaluate a predictive model, and provide insights from the data. This project will help in understanding the factors that influence income levels and can assist in policy-making, socio-economic studies, and other related fields. \n",
    "\n",
    "**Dataset Overview**\n",
    "\n",
    "The dataset used for this project consists of 48,842 entries, each representing an individual's census data. It contains the following 15 features:\n",
    "\n",
    "1.\tAge: The age of the individual.\n",
    "2.\tWorkclass: The employment status of the individual (e.g., Private, Self-emp-not-inc, State-gov).\n",
    "3.\tFnlwgt: The final weight, which represents the number of people the census believes the entry represents.\n",
    "4.\tEducation: The highest level of education attained by the individual.\n",
    "5.\tEducation-num: The number of years of education completed.\n",
    "6.\tMarital-status: The marital status of the individual (e.g., Never-married, Married-civ spouse).\n",
    "7.\tOccupation: The occupation of the individual (e.g., Adm-clerical, Exec-managerial).\n",
    "8.\tRelationship: The individual's relationship status within a family (e.g., Not-in-family, Husband).\n",
    "9.\tRace: The race of the individual (e.g., White, Black).\n",
    "10.\tSex: The gender of the individual. \n",
    "11.\tCapital-gain: Capital gains recorded for the individual.\n",
    "12.\tCapital-loss: Capital losses recorded for the individual. \n",
    "13.\tHours-per-week: The number of hours worked per week. \n",
    "14.\tNative-country: The native country of the individual.\n",
    "15.\tIncome: The target variable indicating whether the individual's income is greater than or less than or equal to $50K per year  (<=50K, >50K)\n"
   ]
  },
  {
   "cell_type": "markdown",
   "id": "42010f31-166a-4d1d-bbb0-a3db3a13377b",
   "metadata": {},
   "source": [
    "These features provide a comprehensive overview of the socio-economic status and work related characteristics of the individuals, which can be used to predict their income levels. By training a machine learning model on this dataset, I aim to accurately classify whether an individual's income exceeds $50K per year, thereby gaining insights into the determinants of income levels."
   ]
  },
  {
   "cell_type": "markdown",
   "id": "510d3b72-ad2a-44c2-a22c-0306e6092fae",
   "metadata": {},
   "source": [
    "**Project outline**"
   ]
  },
  {
   "cell_type": "markdown",
   "id": "2b85247e-1edb-4548-90b8-d82958b75578",
   "metadata": {},
   "source": [
    "1.\tData Collection and Preparation\n",
    "a.\tData Importation\n",
    "b.\tInitial Data Inspection\n",
    "2.\tExploratory Data Analysis (EDA)\n",
    "3.\tData Preprocessing and Feature Engineering\n",
    "a.\tHandling Missing Values\n",
    "b.\tEncoding Categorical Variables\n",
    "c.\tFeature Scaling\n",
    "4.\tModel Development\n",
    "a.\tTrain-Test Split\n",
    "b.\tModel Selection and Training\n",
    "c.\tModel Evaluation"
   ]
  },
  {
   "cell_type": "markdown",
   "id": "d20f437f-98c2-441a-851a-ea28d20e6fc5",
   "metadata": {},
   "source": [
    "### 1. Data Collection and Preparation"
   ]
  },
  {
   "cell_type": "markdown",
   "id": "f2a006ea-28ce-471b-8bfb-c0d2cb852485",
   "metadata": {},
   "source": [
    "**Import Packages**"
   ]
  },
  {
   "cell_type": "code",
   "execution_count": 7,
   "id": "ce0d449c-8671-42c3-bd72-1bac4dddff69",
   "metadata": {},
   "outputs": [],
   "source": [
    "# For data Manipulation\n",
    "import numpy as np\n",
    "import pandas as pd\n",
    "\n",
    "# For data visualization \n",
    "import matplotlib.pyplot as plt\n",
    "import seaborn as sns\n",
    " \n",
    "# For Machine Learning\n",
    "from sklearn.preprocessing import LabelEncoder\n",
    "from sklearn.preprocessing import OneHotEncoder\n",
    "from sklearn.preprocessing import StandardScaler\n",
    "from sklearn.model_selection import train_test_split\n",
    "from sklearn.model_selection import GridSearchCV\n",
    "from sklearn.metrics import (\n",
    "    precision_score,\n",
    "    recall_score,\n",
    "    f1_score,\n",
    "    accuracy_score,\n",
    "    roc_auc_score,\n",
    "    confusion_matrix,\n",
    "    roc_curve\n",
    ")\n",
    "from sklearn.ensemble import RandomForestClassifier\n",
    "from sklearn.impute import SimpleImputer\n",
    "from sklearn.metrics import (\n",
    "    ConfusionMatrixDisplay,\n",
    "    classification_report,\n",
    "    confusion_matrix,\n",
    ")\n",
    "from sklearn.pipeline import make_pipeline\n",
    "from sklearn.compose import ColumnTransformer\n",
    "from sklearn.tree import DecisionTreeClassifier"
   ]
  },
  {
   "cell_type": "markdown",
   "id": "c925cb8e-5c5d-4372-819c-49f7b74d861d",
   "metadata": {},
   "source": [
    "**Data Importation and Inspection**"
   ]
  },
  {
   "cell_type": "code",
   "execution_count": 9,
   "id": "f4b6225b-8c34-436f-a034-47a463185611",
   "metadata": {},
   "outputs": [],
   "source": [
    "# Importing Dataset \n",
    "xlsx = pd.ExcelFile('income_data.xlsx')\n",
    "df = xlsx.parse()"
   ]
  },
  {
   "cell_type": "code",
   "execution_count": 10,
   "id": "0875703d-1a3e-4886-8b14-47590825884d",
   "metadata": {},
   "outputs": [],
   "source": [
    "# Create a copy of the DataFrame to preserve the original\n",
    "df = df.copy()"
   ]
  },
  {
   "cell_type": "code",
   "execution_count": 11,
   "id": "8442d66f-4a7a-4173-a0da-39c34c055aa1",
   "metadata": {},
   "outputs": [
    {
     "data": {
      "text/html": [
       "<div>\n",
       "<style scoped>\n",
       "    .dataframe tbody tr th:only-of-type {\n",
       "        vertical-align: middle;\n",
       "    }\n",
       "\n",
       "    .dataframe tbody tr th {\n",
       "        vertical-align: top;\n",
       "    }\n",
       "\n",
       "    .dataframe thead th {\n",
       "        text-align: right;\n",
       "    }\n",
       "</style>\n",
       "<table border=\"1\" class=\"dataframe\">\n",
       "  <thead>\n",
       "    <tr style=\"text-align: right;\">\n",
       "      <th></th>\n",
       "      <th>age</th>\n",
       "      <th>workclass</th>\n",
       "      <th>fnlwgt</th>\n",
       "      <th>education</th>\n",
       "      <th>education-num</th>\n",
       "      <th>marital-status</th>\n",
       "      <th>occupation</th>\n",
       "      <th>relationship</th>\n",
       "      <th>race</th>\n",
       "      <th>sex</th>\n",
       "      <th>capital-gain</th>\n",
       "      <th>capital-loss</th>\n",
       "      <th>hours-per-week</th>\n",
       "      <th>native-country</th>\n",
       "      <th>income</th>\n",
       "    </tr>\n",
       "  </thead>\n",
       "  <tbody>\n",
       "    <tr>\n",
       "      <th>0</th>\n",
       "      <td>39</td>\n",
       "      <td>State-gov</td>\n",
       "      <td>77516</td>\n",
       "      <td>Bachelors</td>\n",
       "      <td>13</td>\n",
       "      <td>Never-married</td>\n",
       "      <td>Adm-clerical</td>\n",
       "      <td>Not-in-family</td>\n",
       "      <td>White</td>\n",
       "      <td>Male</td>\n",
       "      <td>2174</td>\n",
       "      <td>0</td>\n",
       "      <td>40</td>\n",
       "      <td>United-States</td>\n",
       "      <td>&lt;=50K</td>\n",
       "    </tr>\n",
       "    <tr>\n",
       "      <th>1</th>\n",
       "      <td>50</td>\n",
       "      <td>Self-emp-not-inc</td>\n",
       "      <td>83311</td>\n",
       "      <td>Bachelors</td>\n",
       "      <td>13</td>\n",
       "      <td>Married-civ-spouse</td>\n",
       "      <td>Exec-managerial</td>\n",
       "      <td>Husband</td>\n",
       "      <td>White</td>\n",
       "      <td>Male</td>\n",
       "      <td>0</td>\n",
       "      <td>0</td>\n",
       "      <td>13</td>\n",
       "      <td>United-States</td>\n",
       "      <td>&lt;=50K</td>\n",
       "    </tr>\n",
       "    <tr>\n",
       "      <th>2</th>\n",
       "      <td>38</td>\n",
       "      <td>Private</td>\n",
       "      <td>215646</td>\n",
       "      <td>HS-grad</td>\n",
       "      <td>9</td>\n",
       "      <td>Divorced</td>\n",
       "      <td>Handlers-cleaners</td>\n",
       "      <td>Not-in-family</td>\n",
       "      <td>White</td>\n",
       "      <td>Male</td>\n",
       "      <td>0</td>\n",
       "      <td>0</td>\n",
       "      <td>40</td>\n",
       "      <td>United-States</td>\n",
       "      <td>&lt;=50K</td>\n",
       "    </tr>\n",
       "    <tr>\n",
       "      <th>3</th>\n",
       "      <td>53</td>\n",
       "      <td>Private</td>\n",
       "      <td>234721</td>\n",
       "      <td>11th</td>\n",
       "      <td>7</td>\n",
       "      <td>Married-civ-spouse</td>\n",
       "      <td>Handlers-cleaners</td>\n",
       "      <td>Husband</td>\n",
       "      <td>Black</td>\n",
       "      <td>Male</td>\n",
       "      <td>0</td>\n",
       "      <td>0</td>\n",
       "      <td>40</td>\n",
       "      <td>United-States</td>\n",
       "      <td>&lt;=50K</td>\n",
       "    </tr>\n",
       "    <tr>\n",
       "      <th>4</th>\n",
       "      <td>28</td>\n",
       "      <td>Private</td>\n",
       "      <td>338409</td>\n",
       "      <td>Bachelors</td>\n",
       "      <td>13</td>\n",
       "      <td>Married-civ-spouse</td>\n",
       "      <td>Prof-specialty</td>\n",
       "      <td>Wife</td>\n",
       "      <td>Black</td>\n",
       "      <td>Female</td>\n",
       "      <td>0</td>\n",
       "      <td>0</td>\n",
       "      <td>40</td>\n",
       "      <td>Cuba</td>\n",
       "      <td>&lt;=50K</td>\n",
       "    </tr>\n",
       "  </tbody>\n",
       "</table>\n",
       "</div>"
      ],
      "text/plain": [
       "   age         workclass  fnlwgt  education  education-num  \\\n",
       "0   39         State-gov   77516  Bachelors             13   \n",
       "1   50  Self-emp-not-inc   83311  Bachelors             13   \n",
       "2   38           Private  215646    HS-grad              9   \n",
       "3   53           Private  234721       11th              7   \n",
       "4   28           Private  338409  Bachelors             13   \n",
       "\n",
       "       marital-status         occupation   relationship   race     sex  \\\n",
       "0       Never-married       Adm-clerical  Not-in-family  White    Male   \n",
       "1  Married-civ-spouse    Exec-managerial        Husband  White    Male   \n",
       "2            Divorced  Handlers-cleaners  Not-in-family  White    Male   \n",
       "3  Married-civ-spouse  Handlers-cleaners        Husband  Black    Male   \n",
       "4  Married-civ-spouse     Prof-specialty           Wife  Black  Female   \n",
       "\n",
       "   capital-gain  capital-loss  hours-per-week native-country income  \n",
       "0          2174             0              40  United-States  <=50K  \n",
       "1             0             0              13  United-States  <=50K  \n",
       "2             0             0              40  United-States  <=50K  \n",
       "3             0             0              40  United-States  <=50K  \n",
       "4             0             0              40           Cuba  <=50K  "
      ]
     },
     "execution_count": 11,
     "metadata": {},
     "output_type": "execute_result"
    }
   ],
   "source": [
    "# Displaying the first 5 rows\n",
    "df.head()"
   ]
  },
  {
   "cell_type": "code",
   "execution_count": 12,
   "id": "05f225bb-235e-460c-b664-4cc7d4bd3edf",
   "metadata": {},
   "outputs": [
    {
     "data": {
      "text/html": [
       "<div>\n",
       "<style scoped>\n",
       "    .dataframe tbody tr th:only-of-type {\n",
       "        vertical-align: middle;\n",
       "    }\n",
       "\n",
       "    .dataframe tbody tr th {\n",
       "        vertical-align: top;\n",
       "    }\n",
       "\n",
       "    .dataframe thead th {\n",
       "        text-align: right;\n",
       "    }\n",
       "</style>\n",
       "<table border=\"1\" class=\"dataframe\">\n",
       "  <thead>\n",
       "    <tr style=\"text-align: right;\">\n",
       "      <th></th>\n",
       "      <th>age</th>\n",
       "      <th>workclass</th>\n",
       "      <th>fnlwgt</th>\n",
       "      <th>education</th>\n",
       "      <th>education-num</th>\n",
       "      <th>marital-status</th>\n",
       "      <th>occupation</th>\n",
       "      <th>relationship</th>\n",
       "      <th>race</th>\n",
       "      <th>sex</th>\n",
       "      <th>capital-gain</th>\n",
       "      <th>capital-loss</th>\n",
       "      <th>hours-per-week</th>\n",
       "      <th>native-country</th>\n",
       "      <th>income</th>\n",
       "    </tr>\n",
       "  </thead>\n",
       "  <tbody>\n",
       "    <tr>\n",
       "      <th>48837</th>\n",
       "      <td>39</td>\n",
       "      <td>Private</td>\n",
       "      <td>215419</td>\n",
       "      <td>Bachelors</td>\n",
       "      <td>13</td>\n",
       "      <td>Divorced</td>\n",
       "      <td>Prof-specialty</td>\n",
       "      <td>Not-in-family</td>\n",
       "      <td>White</td>\n",
       "      <td>Female</td>\n",
       "      <td>0</td>\n",
       "      <td>0</td>\n",
       "      <td>36</td>\n",
       "      <td>United-States</td>\n",
       "      <td>&lt;=50K</td>\n",
       "    </tr>\n",
       "    <tr>\n",
       "      <th>48838</th>\n",
       "      <td>64</td>\n",
       "      <td>NaN</td>\n",
       "      <td>321403</td>\n",
       "      <td>HS-grad</td>\n",
       "      <td>9</td>\n",
       "      <td>Widowed</td>\n",
       "      <td>NaN</td>\n",
       "      <td>Other-relative</td>\n",
       "      <td>Black</td>\n",
       "      <td>Male</td>\n",
       "      <td>0</td>\n",
       "      <td>0</td>\n",
       "      <td>40</td>\n",
       "      <td>United-States</td>\n",
       "      <td>&lt;=50K</td>\n",
       "    </tr>\n",
       "    <tr>\n",
       "      <th>48839</th>\n",
       "      <td>38</td>\n",
       "      <td>Private</td>\n",
       "      <td>374983</td>\n",
       "      <td>Bachelors</td>\n",
       "      <td>13</td>\n",
       "      <td>Married-civ-spouse</td>\n",
       "      <td>Prof-specialty</td>\n",
       "      <td>Husband</td>\n",
       "      <td>White</td>\n",
       "      <td>Male</td>\n",
       "      <td>0</td>\n",
       "      <td>0</td>\n",
       "      <td>50</td>\n",
       "      <td>United-States</td>\n",
       "      <td>&lt;=50K</td>\n",
       "    </tr>\n",
       "    <tr>\n",
       "      <th>48840</th>\n",
       "      <td>44</td>\n",
       "      <td>Private</td>\n",
       "      <td>83891</td>\n",
       "      <td>Bachelors</td>\n",
       "      <td>13</td>\n",
       "      <td>Divorced</td>\n",
       "      <td>Adm-clerical</td>\n",
       "      <td>Own-child</td>\n",
       "      <td>Asian-Pac-Islander</td>\n",
       "      <td>Male</td>\n",
       "      <td>5455</td>\n",
       "      <td>0</td>\n",
       "      <td>40</td>\n",
       "      <td>United-States</td>\n",
       "      <td>&lt;=50K</td>\n",
       "    </tr>\n",
       "    <tr>\n",
       "      <th>48841</th>\n",
       "      <td>35</td>\n",
       "      <td>Self-emp-inc</td>\n",
       "      <td>182148</td>\n",
       "      <td>Bachelors</td>\n",
       "      <td>13</td>\n",
       "      <td>Married-civ-spouse</td>\n",
       "      <td>Exec-managerial</td>\n",
       "      <td>Husband</td>\n",
       "      <td>White</td>\n",
       "      <td>Male</td>\n",
       "      <td>0</td>\n",
       "      <td>0</td>\n",
       "      <td>60</td>\n",
       "      <td>United-States</td>\n",
       "      <td>&gt;50K</td>\n",
       "    </tr>\n",
       "  </tbody>\n",
       "</table>\n",
       "</div>"
      ],
      "text/plain": [
       "       age     workclass  fnlwgt  education  education-num  \\\n",
       "48837   39       Private  215419  Bachelors             13   \n",
       "48838   64           NaN  321403    HS-grad              9   \n",
       "48839   38       Private  374983  Bachelors             13   \n",
       "48840   44       Private   83891  Bachelors             13   \n",
       "48841   35  Self-emp-inc  182148  Bachelors             13   \n",
       "\n",
       "           marital-status       occupation    relationship  \\\n",
       "48837            Divorced   Prof-specialty   Not-in-family   \n",
       "48838             Widowed              NaN  Other-relative   \n",
       "48839  Married-civ-spouse   Prof-specialty         Husband   \n",
       "48840            Divorced     Adm-clerical       Own-child   \n",
       "48841  Married-civ-spouse  Exec-managerial         Husband   \n",
       "\n",
       "                     race     sex  capital-gain  capital-loss  hours-per-week  \\\n",
       "48837               White  Female             0             0              36   \n",
       "48838               Black    Male             0             0              40   \n",
       "48839               White    Male             0             0              50   \n",
       "48840  Asian-Pac-Islander    Male          5455             0              40   \n",
       "48841               White    Male             0             0              60   \n",
       "\n",
       "      native-country income  \n",
       "48837  United-States  <=50K  \n",
       "48838  United-States  <=50K  \n",
       "48839  United-States  <=50K  \n",
       "48840  United-States  <=50K  \n",
       "48841  United-States   >50K  "
      ]
     },
     "execution_count": 12,
     "metadata": {},
     "output_type": "execute_result"
    }
   ],
   "source": [
    "# Displaying the last 5 rows\n",
    "df.tail()"
   ]
  },
  {
   "cell_type": "code",
   "execution_count": 13,
   "id": "024da49b-15a6-43d3-b0a1-d94cf072b371",
   "metadata": {},
   "outputs": [
    {
     "data": {
      "text/plain": [
       "(48842, 15)"
      ]
     },
     "execution_count": 13,
     "metadata": {},
     "output_type": "execute_result"
    }
   ],
   "source": [
    "# Displaying number of rows and column present\n",
    "df.shape"
   ]
  },
  {
   "cell_type": "markdown",
   "id": "60abb246-826c-4fba-ad13-edae4a6c718f",
   "metadata": {},
   "source": [
    "There are **48842** rows and **15** columns present in the dataset"
   ]
  },
  {
   "cell_type": "markdown",
   "id": "284f19dc-d019-412d-975a-19a5a901e288",
   "metadata": {},
   "source": [
    "**Summary of Dataset**"
   ]
  },
  {
   "cell_type": "code",
   "execution_count": 16,
   "id": "90a00225-197b-482d-96dd-8d059adab9b1",
   "metadata": {},
   "outputs": [
    {
     "name": "stdout",
     "output_type": "stream",
     "text": [
      "<class 'pandas.core.frame.DataFrame'>\n",
      "RangeIndex: 48842 entries, 0 to 48841\n",
      "Data columns (total 15 columns):\n",
      " #   Column          Non-Null Count  Dtype \n",
      "---  ------          --------------  ----- \n",
      " 0   age             48842 non-null  int64 \n",
      " 1   workclass       47879 non-null  object\n",
      " 2   fnlwgt          48842 non-null  int64 \n",
      " 3   education       48842 non-null  object\n",
      " 4   education-num   48842 non-null  int64 \n",
      " 5   marital-status  48842 non-null  object\n",
      " 6   occupation      47876 non-null  object\n",
      " 7   relationship    48842 non-null  object\n",
      " 8   race            48842 non-null  object\n",
      " 9   sex             48842 non-null  object\n",
      " 10  capital-gain    48842 non-null  int64 \n",
      " 11  capital-loss    48842 non-null  int64 \n",
      " 12  hours-per-week  48842 non-null  int64 \n",
      " 13  native-country  48568 non-null  object\n",
      " 14  income          48842 non-null  object\n",
      "dtypes: int64(6), object(9)\n",
      "memory usage: 5.6+ MB\n"
     ]
    }
   ],
   "source": [
    "# Displaying information about the data set\n",
    "df.info()"
   ]
  },
  {
   "cell_type": "code",
   "execution_count": 17,
   "id": "1a88093e-16f7-4b86-b655-3c36a2a5c3bc",
   "metadata": {},
   "outputs": [
    {
     "data": {
      "text/plain": [
       "48837    <=50K\n",
       "48838    <=50K\n",
       "48839    <=50K\n",
       "48840    <=50K\n",
       "48841     >50K\n",
       "Name: income, dtype: object"
      ]
     },
     "execution_count": 17,
     "metadata": {},
     "output_type": "execute_result"
    }
   ],
   "source": [
    "# Displaying the last 5 columns of Income\n",
    "df[\"income\"].tail()"
   ]
  },
  {
   "cell_type": "code",
   "execution_count": 18,
   "id": "11388179-cae3-442b-9ca2-64803e9f1faf",
   "metadata": {},
   "outputs": [],
   "source": [
    "# Convert object columns that represent categories to 'category' type\n",
    "categorical_columns = ['workclass', 'education', 'marital-status', 'occupation',\n",
    "                        'relationship', 'race', 'sex', 'native-country', 'income']\n",
    "\n",
    "for col in categorical_columns:\n",
    "    df[col] = df[col].astype('category')"
   ]
  },
  {
   "cell_type": "markdown",
   "id": "2f3c7535-6bc2-4765-9c2d-eb52dc46d46d",
   "metadata": {},
   "source": [
    "**Handling Missing Values**"
   ]
  },
  {
   "cell_type": "code",
   "execution_count": 20,
   "id": "b80aff62-578f-4d39-a0a9-4fefb17288ea",
   "metadata": {},
   "outputs": [
    {
     "data": {
      "text/plain": [
       "age                 0\n",
       "workclass         963\n",
       "fnlwgt              0\n",
       "education           0\n",
       "education-num       0\n",
       "marital-status      0\n",
       "occupation        966\n",
       "relationship        0\n",
       "race                0\n",
       "sex                 0\n",
       "capital-gain        0\n",
       "capital-loss        0\n",
       "hours-per-week      0\n",
       "native-country    274\n",
       "income              0\n",
       "dtype: int64"
      ]
     },
     "execution_count": 20,
     "metadata": {},
     "output_type": "execute_result"
    }
   ],
   "source": [
    "#Check for missing values\n",
    "df.isnull().sum()"
   ]
  },
  {
   "cell_type": "code",
   "execution_count": 21,
   "id": "9cbce09c-a3e6-48d2-bef2-693b18c42e77",
   "metadata": {},
   "outputs": [],
   "source": [
    "#handling missing values with most frequent\n",
    "imputer = SimpleImputer(strategy='most_frequent')\n",
    "df[['workclass', 'occupation', 'native-country']] = imputer.fit_transform(df[['workclass', 'occupation', 'native-country']])"
   ]
  },
  {
   "cell_type": "code",
   "execution_count": 22,
   "id": "b8a519f3-a07b-4cec-84fc-8061b6ad1e84",
   "metadata": {},
   "outputs": [
    {
     "data": {
      "text/plain": [
       "income\n",
       "<=50K    0.760718\n",
       ">50K     0.239282\n",
       "Name: proportion, dtype: float64"
      ]
     },
     "execution_count": 22,
     "metadata": {},
     "output_type": "execute_result"
    }
   ],
   "source": [
    "#Check normalized class distribution\n",
    "df['income'].value_counts(normalize=True) "
   ]
  },
  {
   "cell_type": "code",
   "execution_count": 23,
   "id": "086a679a-bb32-4286-b5d6-fc0f6e2caf1c",
   "metadata": {},
   "outputs": [
    {
     "data": {
      "text/html": [
       "<div>\n",
       "<style scoped>\n",
       "    .dataframe tbody tr th:only-of-type {\n",
       "        vertical-align: middle;\n",
       "    }\n",
       "\n",
       "    .dataframe tbody tr th {\n",
       "        vertical-align: top;\n",
       "    }\n",
       "\n",
       "    .dataframe thead th {\n",
       "        text-align: right;\n",
       "    }\n",
       "</style>\n",
       "<table border=\"1\" class=\"dataframe\">\n",
       "  <thead>\n",
       "    <tr style=\"text-align: right;\">\n",
       "      <th></th>\n",
       "      <th>age</th>\n",
       "      <th>fnlwgt</th>\n",
       "      <th>education-num</th>\n",
       "      <th>capital-gain</th>\n",
       "      <th>capital-loss</th>\n",
       "      <th>hours-per-week</th>\n",
       "    </tr>\n",
       "  </thead>\n",
       "  <tbody>\n",
       "    <tr>\n",
       "      <th>count</th>\n",
       "      <td>48842.000000</td>\n",
       "      <td>4.884200e+04</td>\n",
       "      <td>48842.000000</td>\n",
       "      <td>48842.000000</td>\n",
       "      <td>48842.000000</td>\n",
       "      <td>48842.000000</td>\n",
       "    </tr>\n",
       "    <tr>\n",
       "      <th>mean</th>\n",
       "      <td>38.643585</td>\n",
       "      <td>1.896641e+05</td>\n",
       "      <td>10.078089</td>\n",
       "      <td>1079.067626</td>\n",
       "      <td>87.502314</td>\n",
       "      <td>40.422382</td>\n",
       "    </tr>\n",
       "    <tr>\n",
       "      <th>std</th>\n",
       "      <td>13.710510</td>\n",
       "      <td>1.056040e+05</td>\n",
       "      <td>2.570973</td>\n",
       "      <td>7452.019058</td>\n",
       "      <td>403.004552</td>\n",
       "      <td>12.391444</td>\n",
       "    </tr>\n",
       "    <tr>\n",
       "      <th>min</th>\n",
       "      <td>17.000000</td>\n",
       "      <td>1.228500e+04</td>\n",
       "      <td>1.000000</td>\n",
       "      <td>0.000000</td>\n",
       "      <td>0.000000</td>\n",
       "      <td>1.000000</td>\n",
       "    </tr>\n",
       "    <tr>\n",
       "      <th>25%</th>\n",
       "      <td>28.000000</td>\n",
       "      <td>1.175505e+05</td>\n",
       "      <td>9.000000</td>\n",
       "      <td>0.000000</td>\n",
       "      <td>0.000000</td>\n",
       "      <td>40.000000</td>\n",
       "    </tr>\n",
       "    <tr>\n",
       "      <th>50%</th>\n",
       "      <td>37.000000</td>\n",
       "      <td>1.781445e+05</td>\n",
       "      <td>10.000000</td>\n",
       "      <td>0.000000</td>\n",
       "      <td>0.000000</td>\n",
       "      <td>40.000000</td>\n",
       "    </tr>\n",
       "    <tr>\n",
       "      <th>75%</th>\n",
       "      <td>48.000000</td>\n",
       "      <td>2.376420e+05</td>\n",
       "      <td>12.000000</td>\n",
       "      <td>0.000000</td>\n",
       "      <td>0.000000</td>\n",
       "      <td>45.000000</td>\n",
       "    </tr>\n",
       "    <tr>\n",
       "      <th>max</th>\n",
       "      <td>90.000000</td>\n",
       "      <td>1.490400e+06</td>\n",
       "      <td>16.000000</td>\n",
       "      <td>99999.000000</td>\n",
       "      <td>4356.000000</td>\n",
       "      <td>99.000000</td>\n",
       "    </tr>\n",
       "  </tbody>\n",
       "</table>\n",
       "</div>"
      ],
      "text/plain": [
       "                age        fnlwgt  education-num  capital-gain  capital-loss  \\\n",
       "count  48842.000000  4.884200e+04   48842.000000  48842.000000  48842.000000   \n",
       "mean      38.643585  1.896641e+05      10.078089   1079.067626     87.502314   \n",
       "std       13.710510  1.056040e+05       2.570973   7452.019058    403.004552   \n",
       "min       17.000000  1.228500e+04       1.000000      0.000000      0.000000   \n",
       "25%       28.000000  1.175505e+05       9.000000      0.000000      0.000000   \n",
       "50%       37.000000  1.781445e+05      10.000000      0.000000      0.000000   \n",
       "75%       48.000000  2.376420e+05      12.000000      0.000000      0.000000   \n",
       "max       90.000000  1.490400e+06      16.000000  99999.000000   4356.000000   \n",
       "\n",
       "       hours-per-week  \n",
       "count    48842.000000  \n",
       "mean        40.422382  \n",
       "std         12.391444  \n",
       "min          1.000000  \n",
       "25%         40.000000  \n",
       "50%         40.000000  \n",
       "75%         45.000000  \n",
       "max         99.000000  "
      ]
     },
     "execution_count": 23,
     "metadata": {},
     "output_type": "execute_result"
    }
   ],
   "source": [
    "# Summary of Numerical variables\n",
    "df.describe()"
   ]
  },
  {
   "cell_type": "markdown",
   "id": "2a386ebd-7712-4a36-87fb-79d77d53ffce",
   "metadata": {},
   "source": [
    "**Drop Irrelevant Features**"
   ]
  },
  {
   "cell_type": "code",
   "execution_count": 25,
   "id": "4e77b30b-4058-44bd-a9ab-218d04fa297c",
   "metadata": {},
   "outputs": [
    {
     "data": {
      "text/html": [
       "<div>\n",
       "<style scoped>\n",
       "    .dataframe tbody tr th:only-of-type {\n",
       "        vertical-align: middle;\n",
       "    }\n",
       "\n",
       "    .dataframe tbody tr th {\n",
       "        vertical-align: top;\n",
       "    }\n",
       "\n",
       "    .dataframe thead th {\n",
       "        text-align: right;\n",
       "    }\n",
       "</style>\n",
       "<table border=\"1\" class=\"dataframe\">\n",
       "  <thead>\n",
       "    <tr style=\"text-align: right;\">\n",
       "      <th></th>\n",
       "      <th>education</th>\n",
       "      <th>marital-status</th>\n",
       "      <th>relationship</th>\n",
       "      <th>race</th>\n",
       "      <th>sex</th>\n",
       "      <th>income</th>\n",
       "    </tr>\n",
       "  </thead>\n",
       "  <tbody>\n",
       "    <tr>\n",
       "      <th>count</th>\n",
       "      <td>48842</td>\n",
       "      <td>48842</td>\n",
       "      <td>48842</td>\n",
       "      <td>48842</td>\n",
       "      <td>48842</td>\n",
       "      <td>48842</td>\n",
       "    </tr>\n",
       "    <tr>\n",
       "      <th>unique</th>\n",
       "      <td>16</td>\n",
       "      <td>7</td>\n",
       "      <td>6</td>\n",
       "      <td>5</td>\n",
       "      <td>2</td>\n",
       "      <td>2</td>\n",
       "    </tr>\n",
       "    <tr>\n",
       "      <th>top</th>\n",
       "      <td>HS-grad</td>\n",
       "      <td>Married-civ-spouse</td>\n",
       "      <td>Husband</td>\n",
       "      <td>White</td>\n",
       "      <td>Male</td>\n",
       "      <td>&lt;=50K</td>\n",
       "    </tr>\n",
       "    <tr>\n",
       "      <th>freq</th>\n",
       "      <td>15784</td>\n",
       "      <td>22379</td>\n",
       "      <td>19716</td>\n",
       "      <td>41762</td>\n",
       "      <td>32650</td>\n",
       "      <td>37155</td>\n",
       "    </tr>\n",
       "  </tbody>\n",
       "</table>\n",
       "</div>"
      ],
      "text/plain": [
       "       education      marital-status relationship   race    sex income\n",
       "count      48842               48842        48842  48842  48842  48842\n",
       "unique        16                   7            6      5      2      2\n",
       "top      HS-grad  Married-civ-spouse      Husband  White   Male  <=50K\n",
       "freq       15784               22379        19716  41762  32650  37155"
      ]
     },
     "execution_count": 25,
     "metadata": {},
     "output_type": "execute_result"
    }
   ],
   "source": [
    "# Summary Statistics of categorical variables\n",
    "df.describe(include='category')"
   ]
  },
  {
   "cell_type": "code",
   "execution_count": 26,
   "id": "214c70f0-3895-4eaf-ab66-fe7083dd0517",
   "metadata": {},
   "outputs": [],
   "source": [
    "# Drop fnlwgt and education then keep education-num because they convey the same information\n",
    "df = df.drop(columns=['fnlwgt', 'education-num'])"
   ]
  },
  {
   "cell_type": "markdown",
   "id": "6585f63a-4f40-47ca-884a-1831498121fe",
   "metadata": {},
   "source": [
    "**fnlwgt** which represent the final weight of a person is irrelevant as it does not have a direct relationship with the target variable **income.** **eduction-num** is a relevant feature, but it was dropped since we have **education**"
   ]
  },
  {
   "cell_type": "code",
   "execution_count": 28,
   "id": "32b3ceaf-718a-4089-8d99-07fd299ce80a",
   "metadata": {},
   "outputs": [
    {
     "data": {
      "text/plain": [
       "Index(['age', 'workclass', 'education', 'marital-status', 'occupation',\n",
       "       'relationship', 'race', 'sex', 'capital-gain', 'capital-loss',\n",
       "       'hours-per-week', 'native-country', 'income'],\n",
       "      dtype='object')"
      ]
     },
     "execution_count": 28,
     "metadata": {},
     "output_type": "execute_result"
    }
   ],
   "source": [
    "# verifying that columns are dropped\n",
    "df.columns"
   ]
  },
  {
   "cell_type": "code",
   "execution_count": 29,
   "id": "6573977d-79dc-4531-8af5-267ab48702cb",
   "metadata": {},
   "outputs": [
    {
     "data": {
      "text/plain": [
       "array(['State-gov', 'Self-emp-not-inc', 'Private', 'Federal-gov',\n",
       "       'Local-gov', '?', 'Self-emp-inc', 'Without-pay', 'Never-worked'],\n",
       "      dtype=object)"
      ]
     },
     "metadata": {},
     "output_type": "display_data"
    },
    {
     "data": {
      "text/plain": [
       "['Bachelors', 'HS-grad', '11th', 'Masters', '9th', ..., '5th-6th', '10th', '1st-4th', 'Preschool', '12th']\n",
       "Length: 16\n",
       "Categories (16, object): ['10th', '11th', '12th', '1st-4th', ..., 'Masters', 'Preschool', 'Prof-school', 'Some-college']"
      ]
     },
     "metadata": {},
     "output_type": "display_data"
    },
    {
     "data": {
      "text/plain": [
       "['Never-married', 'Married-civ-spouse', 'Divorced', 'Married-spouse-absent', 'Separated', 'Married-AF-spouse', 'Widowed']\n",
       "Categories (7, object): ['Divorced', 'Married-AF-spouse', 'Married-civ-spouse', 'Married-spouse-absent', 'Never-married', 'Separated', 'Widowed']"
      ]
     },
     "metadata": {},
     "output_type": "display_data"
    },
    {
     "data": {
      "text/plain": [
       "array(['Adm-clerical', 'Exec-managerial', 'Handlers-cleaners',\n",
       "       'Prof-specialty', 'Other-service', 'Sales', 'Craft-repair',\n",
       "       'Transport-moving', 'Farming-fishing', 'Machine-op-inspct',\n",
       "       'Tech-support', '?', 'Protective-serv', 'Armed-Forces',\n",
       "       'Priv-house-serv'], dtype=object)"
      ]
     },
     "metadata": {},
     "output_type": "display_data"
    },
    {
     "data": {
      "text/plain": [
       "['Not-in-family', 'Husband', 'Wife', 'Own-child', 'Unmarried', 'Other-relative']\n",
       "Categories (6, object): ['Husband', 'Not-in-family', 'Other-relative', 'Own-child', 'Unmarried', 'Wife']"
      ]
     },
     "metadata": {},
     "output_type": "display_data"
    },
    {
     "data": {
      "text/plain": [
       "['White', 'Black', 'Asian-Pac-Islander', 'Amer-Indian-Eskimo', 'Other']\n",
       "Categories (5, object): ['Amer-Indian-Eskimo', 'Asian-Pac-Islander', 'Black', 'Other', 'White']"
      ]
     },
     "metadata": {},
     "output_type": "display_data"
    },
    {
     "data": {
      "text/plain": [
       "['Male', 'Female']\n",
       "Categories (2, object): ['Female', 'Male']"
      ]
     },
     "metadata": {},
     "output_type": "display_data"
    },
    {
     "data": {
      "text/plain": [
       "['<=50K', '>50K']\n",
       "Categories (2, object): ['<=50K', '>50K']"
      ]
     },
     "metadata": {},
     "output_type": "display_data"
    }
   ],
   "source": [
    "display(df[\"workclass\"].unique())\n",
    "display(df[\"education\"].unique())\n",
    "display(df[\"marital-status\"].unique())\n",
    "display(df[\"occupation\"].unique())\n",
    "display(df[\"relationship\"].unique())\n",
    "display(df[\"race\"].unique())\n",
    "display(df[\"sex\"].unique())\n",
    "display(df[\"income\"].unique())"
   ]
  },
  {
   "cell_type": "code",
   "execution_count": 30,
   "id": "9040ac52-0e28-472f-a46b-f2179c5e94a6",
   "metadata": {},
   "outputs": [
    {
     "data": {
      "text/plain": [
       "native-country\n",
       "United-States                 44106\n",
       "Mexico                          951\n",
       "?                               583\n",
       "Philippines                     295\n",
       "Germany                         206\n",
       "Puerto-Rico                     184\n",
       "Canada                          182\n",
       "El-Salvador                     155\n",
       "India                           151\n",
       "Cuba                            138\n",
       "England                         127\n",
       "China                           122\n",
       "South                           115\n",
       "Jamaica                         106\n",
       "Italy                           105\n",
       "Dominican-Republic              103\n",
       "Japan                            92\n",
       "Guatemala                        88\n",
       "Poland                           87\n",
       "Vietnam                          86\n",
       "Columbia                         85\n",
       "Haiti                            75\n",
       "Portugal                         67\n",
       "Taiwan                           65\n",
       "Iran                             59\n",
       "Greece                           49\n",
       "Nicaragua                        49\n",
       "Peru                             46\n",
       "Ecuador                          45\n",
       "France                           38\n",
       "Ireland                          37\n",
       "Hong                             30\n",
       "Thailand                         30\n",
       "Cambodia                         28\n",
       "Trinadad&Tobago                  27\n",
       "Laos                             23\n",
       "Yugoslavia                       23\n",
       "Outlying-US(Guam-USVI-etc)       23\n",
       "Scotland                         21\n",
       "Honduras                         20\n",
       "Hungary                          19\n",
       "Holand-Netherlands                1\n",
       "Name: count, dtype: int64"
      ]
     },
     "execution_count": 30,
     "metadata": {},
     "output_type": "execute_result"
    }
   ],
   "source": [
    "#Get the value count of each unique value in the 'native-country' column\n",
    "df['native-country'].value_counts()"
   ]
  },
  {
   "cell_type": "code",
   "execution_count": 31,
   "id": "cf3bb0b2-0172-4150-a319-139ae0488bbb",
   "metadata": {},
   "outputs": [],
   "source": [
    "# Converting '?' to 'Unknown'\n",
    "df['native-country'] = df['native-country'].replace('?', 'Unknown')\n",
    "df['workclass'] = df['workclass'].replace('?', 'Unknown')\n",
    "df['occupation'] = df['occupation'].replace('?', 'Unknown')"
   ]
  },
  {
   "cell_type": "code",
   "execution_count": 32,
   "id": "4b7d29f5-3939-43de-89ee-66ac6b9153ba",
   "metadata": {},
   "outputs": [
    {
     "data": {
      "text/plain": [
       "native-country\n",
       "United-States                 44106\n",
       "Mexico                          951\n",
       "Unknown                         583\n",
       "Philippines                     295\n",
       "Germany                         206\n",
       "Puerto-Rico                     184\n",
       "Canada                          182\n",
       "El-Salvador                     155\n",
       "India                           151\n",
       "Cuba                            138\n",
       "England                         127\n",
       "China                           122\n",
       "South                           115\n",
       "Jamaica                         106\n",
       "Italy                           105\n",
       "Dominican-Republic              103\n",
       "Japan                            92\n",
       "Guatemala                        88\n",
       "Poland                           87\n",
       "Vietnam                          86\n",
       "Columbia                         85\n",
       "Haiti                            75\n",
       "Portugal                         67\n",
       "Taiwan                           65\n",
       "Iran                             59\n",
       "Greece                           49\n",
       "Nicaragua                        49\n",
       "Peru                             46\n",
       "Ecuador                          45\n",
       "France                           38\n",
       "Ireland                          37\n",
       "Hong                             30\n",
       "Thailand                         30\n",
       "Cambodia                         28\n",
       "Trinadad&Tobago                  27\n",
       "Laos                             23\n",
       "Yugoslavia                       23\n",
       "Outlying-US(Guam-USVI-etc)       23\n",
       "Scotland                         21\n",
       "Honduras                         20\n",
       "Hungary                          19\n",
       "Holand-Netherlands                1\n",
       "Name: count, dtype: int64"
      ]
     },
     "execution_count": 32,
     "metadata": {},
     "output_type": "execute_result"
    }
   ],
   "source": [
    "# Verify the native-country column\n",
    "df['native-country'].value_counts()"
   ]
  },
  {
   "cell_type": "markdown",
   "id": "1635d91c-7d5c-47ae-b6c2-9630ef788d41",
   "metadata": {},
   "source": [
    "### 2. Exploratory Data Analysis (EDA) and Visualizations\n",
    "Objectives for EDA\n",
    "- Distribution of income\n",
    "- Age Distribution\n",
    "- Work Distribution\n",
    "- Education Distribution\n",
    "- Gender Distribution\n",
    "- Age vs Income\n",
    "- Work vs Income\n",
    "- Occupation vs Income\n",
    "- hours worked vs Income"
   ]
  },
  {
   "cell_type": "markdown",
   "id": "176ca0cc-ea28-41d0-84d3-4c7e68109087",
   "metadata": {},
   "source": [
    "**Distribution of Income**"
   ]
  },
  {
   "cell_type": "code",
   "execution_count": 35,
   "id": "d4807921-d427-40ff-ac35-5811b67777de",
   "metadata": {},
   "outputs": [
    {
     "data": {
      "text/plain": [
       "income\n",
       "<=50K    37155\n",
       ">50K     11687\n",
       "Name: count, dtype: int64"
      ]
     },
     "execution_count": 35,
     "metadata": {},
     "output_type": "execute_result"
    }
   ],
   "source": [
    "# Insight 1: Income Distribution \n",
    "# Counting occurence of Income\n",
    "df['income'].value_counts()"
   ]
  },
  {
   "cell_type": "code",
   "execution_count": 36,
   "id": "b87a2b7e-19c1-4d7f-8658-da300946b40b",
   "metadata": {},
   "outputs": [
    {
     "data": {
      "image/png": "[encoded data removed]",
      "text/plain": [
       "<Figure size 600x400 with 1 Axes>"
      ]
     },
     "metadata": {},
     "output_type": "display_data"
    }
   ],
   "source": [
    "#Plot 1. Distribution of Income\n",
    "plt.figure(figsize=(6,4))\n",
    "sns.countplot(x='income', hue='income', data=df)\n",
    "plt.title('Income Distribution')\n",
    "plt.ylabel('Count')\n",
    "plt.show()"
   ]
  },
  {
   "cell_type": "markdown",
   "id": "87afb6c6-48a9-4531-9755-4dfcfd12866c",
   "metadata": {},
   "source": [
    "The dataset categorizes income into two distinct levels: individuals earning less than or equal to 50K (<=50K) and those earning more than 50K (>50K). Majority of individuals earn <=50K per year, while a smaller ratio of the individual earn $50K per year. A larger percentage of people in this dataset have lower annual earnings. The imbalance in the data  have an implication on the model training, as the disproportionate class sizes affected the model's performance in predicting the >50K class accurately. This might lead to the need for strategies such as class weighting or resampling to address this imbalance."
   ]
  },
  {
   "cell_type": "markdown",
   "id": "a06f55fb-7d84-4a3a-b886-aa85b9856e8c",
   "metadata": {},
   "source": [
    "**Distribution of Age**"
   ]
  },
  {
   "cell_type": "code",
   "execution_count": 39,
   "id": "3f0df34b-c0f4-44c3-b554-0823eee08f02",
   "metadata": {},
   "outputs": [
    {
     "data": {
      "text/plain": [
       "age\n",
       "36    1348\n",
       "35    1337\n",
       "33    1335\n",
       "23    1329\n",
       "31    1325\n",
       "      ... \n",
       "88       6\n",
       "85       5\n",
       "87       3\n",
       "89       2\n",
       "86       1\n",
       "Name: count, Length: 74, dtype: int64"
      ]
     },
     "execution_count": 39,
     "metadata": {},
     "output_type": "execute_result"
    }
   ],
   "source": [
    "# Insight 2: Age Distribution\n",
    "# counting occurence of age\n",
    "df['age'].value_counts()"
   ]
  },
  {
   "cell_type": "code",
   "execution_count": 40,
   "id": "b5700848-e723-49c2-aa98-4c34317a1eb1",
   "metadata": {},
   "outputs": [
    {
     "data": {
      "image/png": "[encoded data removed]",
      "text/plain": [
       "<Figure size 600x400 with 1 Axes>"
      ]
     },
     "metadata": {},
     "output_type": "display_data"
    }
   ],
   "source": [
    "#Plot 2. Age Distribution\n",
    "plt.figure(figsize=(6,4))\n",
    "sns.histplot(x='age', hue='income', data=df)\n",
    "plt.title('Age Distribution')\n",
    "plt.ylabel('Count')\n",
    "plt.show()"
   ]
  },
  {
   "cell_type": "markdown",
   "id": "013c1546-18b0-4c84-afc4-7c1950267eec",
   "metadata": {},
   "source": [
    "This shows the distribution of age groups. A noticeable peak occurs in the 30s age range , where counts are highest. Ages between 20s and 60s appear to have higher counts of individuals who earn more income why there are significantly fewer individuals in the 70s, 80s and 90s. The distribution suggests a higher concerntration of individuals in thier 20s to 40s."
   ]
  },
  {
   "cell_type": "markdown",
   "id": "775dd218-0daa-412a-bf46-059048383046",
   "metadata": {},
   "source": [
    "**Gender Distribution**"
   ]
  },
  {
   "cell_type": "code",
   "execution_count": 43,
   "id": "9b1f7514-d295-4fa1-8ed0-20490744dcdf",
   "metadata": {},
   "outputs": [
    {
     "data": {
      "text/plain": [
       "sex\n",
       "Male      32650\n",
       "Female    16192\n",
       "Name: count, dtype: int64"
      ]
     },
     "execution_count": 43,
     "metadata": {},
     "output_type": "execute_result"
    }
   ],
   "source": [
    "# Insight 3: Gender Distribution\n",
    "# counting occurence of age\n",
    "df['sex'].value_counts()"
   ]
  },
  {
   "cell_type": "code",
   "execution_count": 44,
   "id": "9c41e1b3-a7a6-4de3-bd05-a67e9d751a38",
   "metadata": {},
   "outputs": [
    {
     "data": {
      "image/png": "[encoded data removed]",
      "text/plain": [
       "<Figure size 600x400 with 1 Axes>"
      ]
     },
     "metadata": {},
     "output_type": "display_data"
    }
   ],
   "source": [
    "#Plot 3. Gender Distribution\n",
    "plt.figure(figsize=(6,4))\n",
    "sns.countplot(x='sex', hue='income', data=df) \n",
    "plt.title('Gender Distribution')\n",
    "plt.ylabel('Count')\n",
    "plt.show()"
   ]
  },
  {
   "cell_type": "markdown",
   "id": "908e2dd5-8ee3-451f-97f3-b1d1a98fa807",
   "metadata": {},
   "source": [
    "The dataset presents the **Gender** breakdown of respondents, with a total of **48,842** individuals. The results indicate that there are significantly more **male** respondents **(32,650)** compared to **female** respondents **(16,192).** This suggesta **Gender** imbalance in the sample, which may influence the overall analaysis or conclusions drawn from data."
   ]
  },
  {
   "cell_type": "markdown",
   "id": "98295a4f-4adb-4066-8314-aece13e09d3d",
   "metadata": {},
   "source": [
    "**Work Distribution**"
   ]
  },
  {
   "cell_type": "code",
   "execution_count": 47,
   "id": "7b89c670-ffa9-4f6c-9777-a32ebcf216fa",
   "metadata": {},
   "outputs": [
    {
     "data": {
      "text/plain": [
       "workclass\n",
       "Private             34869\n",
       "Self-emp-not-inc     3862\n",
       "Local-gov            3136\n",
       "State-gov            1981\n",
       "Unknown              1836\n",
       "Self-emp-inc         1695\n",
       "Federal-gov          1432\n",
       "Without-pay            21\n",
       "Never-worked           10\n",
       "Name: count, dtype: int64"
      ]
     },
     "execution_count": 47,
     "metadata": {},
     "output_type": "execute_result"
    }
   ],
   "source": [
    "# Insight 4: Work Distribution\n",
    "# counting occurence of age\n",
    "df['workclass'].value_counts()"
   ]
  },
  {
   "cell_type": "code",
   "execution_count": 48,
   "id": "147fc76a-2efd-4f9a-a292-931dce0ff63d",
   "metadata": {},
   "outputs": [
    {
     "data": {
      "image/png": "[encoded data removed]",
      "text/plain": [
       "<Figure size 1600x600 with 1 Axes>"
      ]
     },
     "metadata": {},
     "output_type": "display_data"
    }
   ],
   "source": [
    "#Plot 4. Work Distribution\n",
    "plt.figure(figsize=(16,6))\n",
    "sns.countplot(x='workclass', hue='income', data=df)\n",
    "plt.title('Work Distribution')\n",
    "plt.ylabel('Count')\n",
    "plt.show()"
   ]
  },
  {
   "cell_type": "markdown",
   "id": "c9bc2a31-987a-47cc-8250-eb4ea5b0e61c",
   "metadata": {},
   "source": [
    "The datasets shows that the **Private** workclass has the the highest count, significantly outweighing other categories. "
   ]
  },
  {
   "cell_type": "markdown",
   "id": "6a8f3dab-3f93-4b82-bbf0-78cf15d61e1b",
   "metadata": {},
   "source": [
    "**Education Distribution**"
   ]
  },
  {
   "cell_type": "code",
   "execution_count": 51,
   "id": "7328348c-8111-4f5f-a5ae-c972868f9846",
   "metadata": {},
   "outputs": [
    {
     "data": {
      "text/plain": [
       "education\n",
       "HS-grad         15784\n",
       "Some-college    10878\n",
       "Bachelors        8025\n",
       "Masters          2657\n",
       "Assoc-voc        2061\n",
       "11th             1812\n",
       "Assoc-acdm       1601\n",
       "10th             1389\n",
       "7th-8th           955\n",
       "Prof-school       834\n",
       "9th               756\n",
       "12th              657\n",
       "Doctorate         594\n",
       "5th-6th           509\n",
       "1st-4th           247\n",
       "Preschool          83\n",
       "Name: count, dtype: int64"
      ]
     },
     "execution_count": 51,
     "metadata": {},
     "output_type": "execute_result"
    }
   ],
   "source": [
    "# Insight 5: Education Distribution\n",
    "# counting occurence of age\n",
    "df['education'].value_counts()"
   ]
  },
  {
   "cell_type": "code",
   "execution_count": 52,
   "id": "2d6ccca5-83d7-4058-aa39-d2009a4685ee",
   "metadata": {},
   "outputs": [
    {
     "data": {
      "image/png": "[encoded data removed]",
      "text/plain": [
       "<Figure size 2000x600 with 1 Axes>"
      ]
     },
     "metadata": {},
     "output_type": "display_data"
    }
   ],
   "source": [
    "#Plot 5. Education Distribution\n",
    "plt.figure(figsize=(20,6))\n",
    "sns.countplot(x='education', hue='income', data=df)\n",
    "plt.title('Education Distribution')\n",
    "plt.ylabel('Count')\n",
    "plt.show()"
   ]
  },
  {
   "cell_type": "markdown",
   "id": "279006bb-9f02-4a15-8b59-362fd086a2f9",
   "metadata": {},
   "source": [
    "The Education distribution shown in the bar chart highlights that the **HS-grad**, **some-college** and **Bachelors** category has the highest count, illustrating a potentially significant trend among the population being analyze."
   ]
  },
  {
   "cell_type": "markdown",
   "id": "5949637d-acef-4c38-bb74-53a99d52d114",
   "metadata": {},
   "source": [
    "**Relationship between Work Class and Income Level**"
   ]
  },
  {
   "cell_type": "code",
   "execution_count": 55,
   "id": "1e9aa7d9-2cb3-4e5d-a46c-b415247d7e1d",
   "metadata": {},
   "outputs": [
    {
     "data": {
      "image/png": "[encoded data removed]",
      "text/plain": [
       "<Figure size 700x400 with 1 Axes>"
      ]
     },
     "metadata": {},
     "output_type": "display_data"
    }
   ],
   "source": [
    "# Plot 7:Plotting the relationship between Work Class and Income Level\n",
    "plt.figure(figsize=(7, 4))\n",
    "sns.countplot(x='workclass', hue='income', data=df)\n",
    "plt.title('Work Class by Income Level')\n",
    "plt.xticks(rotation=45)\n",
    "plt.show()"
   ]
  },
  {
   "cell_type": "markdown",
   "id": "be7a5f96-3260-4f34-84f3-2eb16e0acf7a",
   "metadata": {},
   "source": [
    "This is use to examine the different workclass and how they are paid. This will help determine which occupation collect the highest salary and which occupation collect a low salary."
   ]
  },
  {
   "cell_type": "markdown",
   "id": "74563f05-c405-4662-95eb-acae478cb934",
   "metadata": {},
   "source": [
    "**Relationship between Age and Income Level**"
   ]
  },
  {
   "cell_type": "code",
   "execution_count": 58,
   "id": "5df966a6-d27f-44e0-8720-b887c4900b2e",
   "metadata": {},
   "outputs": [
    {
     "data": {
      "image/png": "[encoded data removed]",
      "text/plain": [
       "<Figure size 640x480 with 1 Axes>"
      ]
     },
     "metadata": {},
     "output_type": "display_data"
    }
   ],
   "source": [
    "#Plot 6. Plotting the relationship between Age and Income Level\n",
    "# Plot for individuals earning <=50K\n",
    "df[df['income'] == '<=50K']['age'].plot(kind='hist', bins=20,  label='<=50K')\n",
    "\n",
    "# Plot for individuals earning >50K\n",
    "df[df['income'] == '>50K']['age'].plot(kind='hist', bins=20, label='>50K')\n",
    "plt.xticks(rotation=45)\n",
    "plt.title(f'Age Distribution by Income Level')\n",
    "plt.legend()\n",
    "plt.show()"
   ]
  },
  {
   "cell_type": "raw",
   "id": "71ee2d84-1f69-43c7-b8dd-9a2b14022910",
   "metadata": {},
   "source": [
    "This shows income level with respect to age of individuals separeted by thier income level. This help to determine the age range that falls under <=50k and those that falls under >50k"
   ]
  },
  {
   "cell_type": "markdown",
   "id": "5e3e24ea-6040-49aa-b804-82b0cbc28a08",
   "metadata": {},
   "source": [
    "**Relationship between education level and income level**"
   ]
  },
  {
   "cell_type": "code",
   "execution_count": 60,
   "id": "9b5572a9-ac6d-401d-a962-7f5d0f636ec3",
   "metadata": {},
   "outputs": [
    {
     "data": {
      "image/png": "[encoded data removed]",
      "text/plain": [
       "<Figure size 1700x600 with 1 Axes>"
      ]
     },
     "metadata": {},
     "output_type": "display_data"
    }
   ],
   "source": [
    " # Plot 8: Plotting the relationship between education level and income level\n",
    "plt.figure(figsize=(17, 6))\n",
    "sns.countplot(x='education', hue='income', data=df)\n",
    "plt.title('Education Level by Income Distribution')\n",
    "plt.legend()\n",
    "plt.show()"
   ]
  },
  {
   "cell_type": "markdown",
   "id": "0168c7f0-977f-4214-9245-712cd7ac64b3",
   "metadata": {},
   "source": [
    "This analysis explores the relationship between education level and income, aiming to determine whether higher education correlates with higher income. By examining how individuals with varying education levels fall into the income categories (<=50K and >50K). "
   ]
  },
  {
   "cell_type": "markdown",
   "id": "552f203c-c3b1-4b0b-b67b-e126098ea895",
   "metadata": {},
   "source": [
    "**Relationship Occupation and income Level**"
   ]
  },
  {
   "cell_type": "code",
   "execution_count": 63,
   "id": "c03b6c9c-d204-4231-be9e-caf40ecfa9bf",
   "metadata": {},
   "outputs": [
    {
     "data": {
      "image/png": "[encoded data removed]",
      "text/plain": [
       "<Figure size 2800x600 with 1 Axes>"
      ]
     },
     "metadata": {},
     "output_type": "display_data"
    }
   ],
   "source": [
    "# Checking for the relationship between occupation and income level\n",
    "occupation_income = df.groupby('occupation')['income'].value_counts().unstack()\n",
    "\n",
    "# Plot 9: Plotting the relationship workclass and income Level\n",
    "plt.figure(figsize=(28, 6))\n",
    "plt.bar(occupation_income.index, occupation_income.values[:, 0], label='<=50k')\n",
    "plt.bar(occupation_income.index, occupation_income.values[:, 1], label='>50k')\n",
    "\n",
    "plt.title('Occupation by Income Distribution')\n",
    "plt.legend()\n",
    "plt.show()"
   ]
  },
  {
   "cell_type": "markdown",
   "id": "2b7dbd26-2684-4ce1-9828-ce6c2cceb9d2",
   "metadata": {},
   "source": [
    "This is use to examine the different occupations and how they are paid. This will help determine which occupation collect the highest salary and which occupation collect a low salary.\n"
   ]
  },
  {
   "cell_type": "markdown",
   "id": "19ceaadd-4614-4ea3-bb48-4edf8464c194",
   "metadata": {},
   "source": [
    "**Relationship Gender and Income Level**"
   ]
  },
  {
   "cell_type": "code",
   "execution_count": 66,
   "id": "ddb0fd2b-c7a1-475f-8dae-7981f730dc5c",
   "metadata": {},
   "outputs": [
    {
     "name": "stderr",
     "output_type": "stream",
     "text": [
      "C:\\Users\\ajuel\\AppData\\Local\\Temp\\ipykernel_22780\\157892633.py:3: FutureWarning: The default of observed=False is deprecated and will be changed to True in a future version of pandas. Pass observed=False to retain current behavior or observed=True to adopt the future default and silence this warning.\n",
      "  sex_income = df.groupby('sex')['income'].value_counts().unstack()\n"
     ]
    },
    {
     "data": {
      "image/png": "[encoded data removed]",
      "text/plain": [
       "<Figure size 640x480 with 1 Axes>"
      ]
     },
     "metadata": {},
     "output_type": "display_data"
    }
   ],
   "source": [
    " # Plot 10: Plotting the relationship Gender and Income Level\n",
    "# Checking for Relationship\n",
    "sex_income = df.groupby('sex')['income'].value_counts().unstack()\n",
    "# Plotting the graph\n",
    "plt.bar(sex_income.index, sex_income.values[:, 0], label='<=50k')\n",
    "plt.bar(sex_income.index, sex_income.values[:, 1], label='>50k')\n",
    "plt.title('Gender by Income Distribution')\n",
    "plt.xlabel('Gender')\n",
    "plt.ylabel('Count')\n",
    "plt.legend()\n",
    "plt.show()"
   ]
  },
  {
   "cell_type": "markdown",
   "id": "2dfaa08c-5e41-43a1-8e6c-65c2cae96840",
   "metadata": {},
   "source": [
    "This shows the relationship between **Gender** and income showing whether gender affects **Income distribution.**"
   ]
  },
  {
   "cell_type": "markdown",
   "id": "11f43c33-cf90-4cd9-bb1c-d1e62ed45507",
   "metadata": {},
   "source": [
    "### 3. Data Preprocessing and Feature Engineering"
   ]
  },
  {
   "cell_type": "markdown",
   "id": "33106645-edbf-4cce-990f-85112c0138ec",
   "metadata": {},
   "source": [
    "**Handling Missing Values**\n",
    "Missing values have been addressed during initial data inspection."
   ]
  },
  {
   "cell_type": "code",
   "execution_count": 70,
   "id": "7fc238ab-2b69-4095-81c8-40c59dd95d50",
   "metadata": {},
   "outputs": [],
   "source": [
    "#identifying categorical and numerical variables \n",
    "categorical_columns = ['workclass', 'education', 'marital-status', 'occupation', 'relationship', 'race', 'sex', 'native-country']\n",
    "numeric_columns = ['age', 'capital-gain', 'capital-loss', 'hours-per-week']"
   ]
  },
  {
   "cell_type": "code",
   "execution_count": 71,
   "id": "8a0b15e0-3d0f-4448-b4da-b4a91665a88b",
   "metadata": {},
   "outputs": [],
   "source": [
    "# Encode categorical variables using labelEncoder\n",
    "label_encoder = LabelEncoder()\n",
    "df_encoded = df.copy()"
   ]
  },
  {
   "cell_type": "code",
   "execution_count": 72,
   "id": "b28e3677-0e26-435b-aae2-650c57bc615d",
   "metadata": {},
   "outputs": [],
   "source": [
    "# Encoding categorical features\n",
    "for column in ['workclass', 'education', 'marital-status', 'occupation', 'relationship', 'race', 'sex', 'native-country']:\n",
    "    df_encoded[column] = label_encoder.fit_transform(df_encoded[column])"
   ]
  },
  {
   "cell_type": "markdown",
   "id": "76698960-e8b3-4c9c-b0b4-9ccec1281120",
   "metadata": {},
   "source": [
    "### 4. Model Development"
   ]
  },
  {
   "cell_type": "markdown",
   "id": "46170b9b-1502-431f-b940-f5a31e2a7278",
   "metadata": {},
   "source": [
    "**Train-Test Split**"
   ]
  },
  {
   "cell_type": "code",
   "execution_count": 75,
   "id": "c414ccdb-e9a5-471e-90d4-1bb0b361847c",
   "metadata": {},
   "outputs": [
    {
     "name": "stdout",
     "output_type": "stream",
     "text": [
      "X shape: (48842, 12)\n",
      "y shape: (48842,)\n"
     ]
    }
   ],
   "source": [
    "# Define features (x) and target (y) \n",
    "X = df_encoded.drop(columns=['income'])\n",
    "y = df_encoded['income']\n",
    "print(\"X shape:\",X.shape)\n",
    "print(\"y shape:\", y.shape)"
   ]
  },
  {
   "cell_type": "code",
   "execution_count": 76,
   "id": "7058d748-a3ff-482d-9d72-e59a2a227062",
   "metadata": {},
   "outputs": [
    {
     "name": "stdout",
     "output_type": "stream",
     "text": [
      "X_train shape: (39073, 12)\n",
      "y_train shape: (39073,)\n",
      "X_test shape: (9769, 12)\n",
      "y_test shape: (9769,)\n"
     ]
    }
   ],
   "source": [
    "# Splitting dataset into training and testing sets\n",
    "X_train, X_test, y_train, y_test = train_test_split(X, y, test_size=0.2, random_state=42)\n",
    "\n",
    "print(\"X_train shape:\", X_train.shape)\n",
    "print(\"y_train shape:\", y_train.shape)\n",
    "print(\"X_test shape:\", X_test.shape)\n",
    "print(\"y_test shape:\", y_test.shape)"
   ]
  },
  {
   "cell_type": "markdown",
   "id": "59dfd4ec-ab2f-427c-aeba-552696bc0085",
   "metadata": {},
   "source": [
    "**Model Selection And Training**"
   ]
  },
  {
   "cell_type": "markdown",
   "id": "3d54ad9e-ddb3-4cb8-aa2f-7934930c102b",
   "metadata": {},
   "source": [
    "**Using Pipeline Model**"
   ]
  },
  {
   "cell_type": "code",
   "execution_count": 79,
   "id": "ff458322-f0ab-45dc-8764-825440f94c2c",
   "metadata": {},
   "outputs": [],
   "source": [
    "# Creating Preprocessing Pipeline\n",
    "preprocessor = ColumnTransformer(\n",
    "    transformers=[\n",
    "        ('num', StandardScaler(), numeric_columns),\n",
    "        ('cat', OneHotEncoder(handle_unknown='ignore'), categorical_columns)\n",
    "    ])"
   ]
  },
  {
   "cell_type": "code",
   "execution_count": 80,
   "id": "5b0b681f-b9e3-4fa3-b096-e931e9fe8827",
   "metadata": {},
   "outputs": [],
   "source": [
    "# Define the model\n",
    "model = RandomForestClassifier(random_state=0)"
   ]
  },
  {
   "cell_type": "code",
   "execution_count": 81,
   "id": "a97be98c-e51b-410c-ac58-7c019160b35f",
   "metadata": {},
   "outputs": [],
   "source": [
    "# Creating model\n",
    "model = make_pipeline(\n",
    "    preprocessor,\n",
    "    RandomForestClassifier(random_state=42)\n",
    ")"
   ]
  },
  {
   "cell_type": "code",
   "execution_count": null,
   "id": "2e179c50-f42e-4674-8f85-b02d0a0c8e6f",
   "metadata": {},
   "outputs": [],
   "source": [
    "# Training the model\n",
    "model.fit(X_train, y_train)"
   ]
  },
  {
   "cell_type": "code",
   "execution_count": null,
   "id": "62fb069d-f032-4f4f-b172-0f6dfee88326",
   "metadata": {},
   "outputs": [],
   "source": [
    "y_train_pred = model.predict(X_train)\n",
    "training_accuracy = accuracy_score(y_train, y_train_pred)"
   ]
  },
  {
   "cell_type": "code",
   "execution_count": null,
   "id": "79cfb9da-f017-4722-beb1-3af9927a112b",
   "metadata": {},
   "outputs": [],
   "source": [
    "# Predict and evaluate\n",
    "y_test_pred = model.predict(X_test)\n",
    "test_accuracy = accuracy_score(y_test, y_test_pred)\n",
    "print(f\"Accuracy: {test_accuracy:.6f}\")\n",
    "print(classification_report(y_test, y_test_pred))"
   ]
  },
  {
   "cell_type": "code",
   "execution_count": null,
   "id": "a852f609-f77b-4035-85b0-2d3fb61c990e",
   "metadata": {},
   "outputs": [],
   "source": [
    "# Print feature names\n",
    "feature_names = preprocessor.named_transformers_['num'].get_feature_names_out().tolist() + \\\n",
    "                preprocessor.named_transformers_['cat'].get_feature_names_out().tolist()\n",
    "feature_names"
   ]
  },
  {
   "cell_type": "code",
   "execution_count": null,
   "id": "34402513-6007-4328-a0af-66a5fa2e9643",
   "metadata": {},
   "outputs": [],
   "source": [
    "# Get the number of features after one-hot encoding\n",
    "preprocessor.fit(X)\n",
    "num_features = len(preprocessor.named_transformers_['num'].get_feature_names_out()) + \\\n",
    "               len(preprocessor.named_transformers_['cat'].get_feature_names_out())\n",
    "num_features"
   ]
  },
  {
   "cell_type": "code",
   "execution_count": null,
   "id": "e5061694-8a28-48f9-8a69-cb7f878eafc2",
   "metadata": {},
   "outputs": [],
   "source": [
    "# Create confusion matrix\n",
    "cm = confusion_matrix(y_test, y_test_pred)"
   ]
  },
  {
   "cell_type": "code",
   "execution_count": null,
   "id": "4ab1f326-f269-49b6-aa69-4d161df1375e",
   "metadata": {},
   "outputs": [],
   "source": [
    "# Plot confusion matrix\n",
    "ConfusionMatrixDisplay(confusion_matrix=cm).plot()"
   ]
  },
  {
   "cell_type": "code",
   "execution_count": null,
   "id": "58a8bd83-5380-4e56-886c-589658ace54a",
   "metadata": {},
   "outputs": [],
   "source": [
    "# Visualising the feature importance by creating a bar plot\n",
    "importances = X_train.columns\n",
    "\n",
    "# Sorting the feature importance in descending order\n",
    "indices = np.argsort(importances) [::-1]\n",
    "\n",
    "# Create a bar plot\n",
    "plt.figure(figsize=(6, 4))\n",
    "plt.title(\"Feature Importances\")\n",
    "plt.bar(range(len(importances)), importances[indices], align=\"center\")\n",
    "plt.ylabel(\"Importance Score\")\n",
    "plt.xlabel(\"Features\")\n",
    "plt.tight_layout()\n",
    "plt.show()"
   ]
  },
  {
   "cell_type": "markdown",
   "id": "3c644217-186e-433a-94af-cfacf848c829",
   "metadata": {},
   "source": [
    "**Using RandomForestClassifier**"
   ]
  },
  {
   "cell_type": "code",
   "execution_count": null,
   "id": "7977b33d-ebb2-499b-ba12-aac8a275e8a2",
   "metadata": {},
   "outputs": [],
   "source": [
    "param_grid = {\n",
    "    'n_estimators': [50, 100, 150],           \n",
    "    'max_depth': [10, 20, None],               \n",
    "    'min_samples_split': [2, 5],               \n",
    "    'min_samples_leaf': [1, 2],                \n",
    "    'bootstrap': [True, False]                 \n",
    "}"
   ]
  },
  {
   "cell_type": "code",
   "execution_count": null,
   "id": "54508a59-00a7-40fb-8d90-c3420a631d34",
   "metadata": {},
   "outputs": [],
   "source": [
    "# Initialize the RandomForestClassifier\n",
    "rf_random_search = RandomForestClassifier(n_estimators=100, random_state=42) \n",
    "print(\"RandomForestClassifier initialized successfully.\")\n",
    "print(\"Parameters:\", rf_random_search.get_params())"
   ]
  },
  {
   "cell_type": "code",
   "execution_count": null,
   "id": "c597d27f-bc85-475a-86d3-eedd1f0b99be",
   "metadata": {},
   "outputs": [],
   "source": [
    "#training model with best params and best score\n",
    "best_rf = RandomForestClassifier(\n",
    "    n_estimators=100, \n",
    "    min_samples_split=5, \n",
    "    min_samples_leaf=1, \n",
    "    max_depth=10, \n",
    "    bootstrap=True\n",
    ")\n",
    "best_rf.fit(X_train, y_train)"
   ]
  },
  {
   "cell_type": "code",
   "execution_count": null,
   "id": "77a73f60-1aea-4d95-a477-f5b676e20f08",
   "metadata": {},
   "outputs": [],
   "source": [
    "# Prediction on the test set using the best model\n",
    "y_pred_best = best_rf.predict(X_test)"
   ]
  },
  {
   "cell_type": "code",
   "execution_count": null,
   "id": "ad44b903-36a0-4cc6-b316-1b044ab40580",
   "metadata": {},
   "outputs": [],
   "source": [
    "# Calculating best accuracy\n",
    "accuracy_best = accuracy_score(y_test, y_pred_best)"
   ]
  },
  {
   "cell_type": "code",
   "execution_count": null,
   "id": "f28111b0-6969-4c04-b97b-16df8b69767f",
   "metadata": {},
   "outputs": [],
   "source": [
    "# Predicting probabilities for the positive class\n",
    "y_pred_prob = best_rf.predict_proba(X_test)[:, 1]"
   ]
  },
  {
   "cell_type": "code",
   "execution_count": null,
   "id": "27ae91d0-da1e-435f-81ed-ad7a34db310a",
   "metadata": {},
   "outputs": [],
   "source": [
    "# Computing AUC score\n",
    "roc_auc = roc_auc_score(y_test, y_pred_prob)"
   ]
  },
  {
   "cell_type": "code",
   "execution_count": null,
   "id": "8ecf4752-64ee-48bd-80f9-f28253a6fbb9",
   "metadata": {},
   "outputs": [],
   "source": [
    "# getting Classification report\n",
    "class_report_best = classification_report(y_test, y_pred_best)\n",
    "\n",
    "# Print accuracy and classification report\n",
    "print(f\"Accuracy: {accuracy_best:.6f}\")\n",
    "print(f\"Classification Report:\\n{class_report_best}\")\n",
    "print(f\"ROC-AUC: {roc_auc}\")"
   ]
  },
  {
   "cell_type": "code",
   "execution_count": null,
   "id": "4266e49b-b1cb-4c1b-8ae4-24cbd59d6ff3",
   "metadata": {},
   "outputs": [],
   "source": [
    "# Confusion Matrix\n",
    "conf_matrix = confusion_matrix(y_test, y_pred_best)\n",
    "\n",
    "# Plot Confusion Matrix\n",
    "disp = ConfusionMatrixDisplay(conf_matrix, display_labels=['<=50K', '>50K'])\n",
    "disp.plot(cmap=plt.cm.Blues)\n",
    "plt.title('Confusion Matrix by Random Forest Classifier')\n",
    "plt.show()"
   ]
  },
  {
   "cell_type": "code",
   "execution_count": null,
   "id": "7ab6bf23-158f-44d8-897b-45c6074b5b68",
   "metadata": {},
   "outputs": [],
   "source": [
    "# Get feature importance from the trained RandomForest classifier\n",
    "rf_feature_importances = best_rf.feature_importances_\n",
    "\n",
    "# Create a DataFrame and sort by importance\n",
    "rf_feature_importance_df = pd.DataFrame({\n",
    "    'Feature': X_train.columns,\n",
    "    'Importance': rf_feature_importances\n",
    "}).sort_values(by='Importance', ascending=False)\n",
    "\n",
    "# Select the top features\n",
    "rf_features = rf_feature_importance_df.head()\n",
    "\n",
    "# Plot the top feature importance for Random Forest\n",
    "plt.figure(figsize=(6, 4))\n",
    "plt.barh(rf_features['Feature'], rf_features['Importance'])\n",
    "plt.title('Top Random Forest Feature Importance')\n",
    "plt.gca().invert_yaxis()  # To show the most important features at the top\n",
    "plt.xlabel('Feature Importance')\n",
    "plt.show()"
   ]
  },
  {
   "cell_type": "code",
   "execution_count": null,
   "id": "2728968d-5e35-4080-a6d5-d345dbbd5bf6",
   "metadata": {},
   "outputs": [],
   "source": [
    "# Computing ROC curve\n",
    "fpr, tpr, thresholds = roc_curve(y_test, y_pred_prob, pos_label='>50K')"
   ]
  },
  {
   "cell_type": "code",
   "execution_count": null,
   "id": "8fc18ce7-2a2b-40b0-8018-daaf353d6a46",
   "metadata": {},
   "outputs": [],
   "source": [
    "# Computing AUC score\n",
    "roc_auc = roc_auc_score(y_test, y_pred_prob)"
   ]
  },
  {
   "cell_type": "markdown",
   "id": "5cf298c7-2cd8-4183-a4bc-b3097174c951",
   "metadata": {},
   "source": [
    "# Plot ROC curve\n",
    "plt.figure(figsize=(6, 4))\n",
    "plt.plot(fpr, tpr, label=f'ROC curve (area = {roc_auc:.2f})')\n",
    "plt.plot([0, 1], [0, 1], color='red', linestyle='--')  # Baseline\n",
    "plt.xlabel('False Positive Rate')\n",
    "plt.ylabel('True Positive Rate')\n",
    "plt.title('ROC Curve')\n",
    "plt.legend(loc='lower right')\n",
    "plt.show()"
   ]
  },
  {
   "cell_type": "markdown",
   "id": "18f44254-7943-4137-afd2-920c23e69467",
   "metadata": {},
   "source": [
    "**Summary And Recommendations**"
   ]
  },
  {
   "cell_type": "markdown",
   "id": "64c41506-e30e-43d7-a281-c9d8f2e468be",
   "metadata": {},
   "source": [
    "**Key Insights from EDA**\n",
    "1. I observed that there is a significant imbalance between the classes with many more individuals earning <=50K than >50K.\n",
    "2. I also noticed that there are significantly more male respondents (32,650) compared to female respondents (16,192). This suggesta Gender imbalance in the sample, which may influence the overall analaysis or conclusions drawn from data.\n",
    "3. In **Income Distribution** i notice that majority of individuals earn <=50K per year, while a smaller ratio of the individual earn $50K per year. A larger percentage of people in this dataset have lower annual earnings. The imbalance in the data  have an implication on the model training, as the disproportionate class sizes affected the model's performance in predicting the >50K class accurately. This might lead to the need for strategies such as class weighting or resampling to address this imbalance.\n",
    "4. In **Age Vs Income Level** I also observed a correlation between age and income. Younger individuals tend to earn less as they are in the early stages of their careers, whereas older individuals typically earn more due to their experience and career progression. This aligns with the general understanding of how income grows over a lifetime."
   ]
  },
  {
   "cell_type": "markdown",
   "id": "af1b662f-7d69-4374-8fef-f1bfbde37769",
   "metadata": {},
   "source": [
    "5. In **Education vs Income level** Individuals with advanced degrees (e.g., Doctorate, Masters, Bachelors) earn higher while, individuals with lower education levels, such as those with High School or less earn lesser. The level of degree of individual determine there income.\n",
    "6. **Occupation vs Income Level** In many occupations, the majority of workers earn <=50K, a large number of people in the workforce earn below $50K. Occupation plays a significant role in determining income levels. Managerial and professional roles tend to offer better financial outcomes, while service-related or manual labor jobs are concentrated in the lower income bracket. This emphasizes that occupation is a critical feature when predicting income levels in a machine learning model.\n",
    "7. In **Gender and Income Level** Men earn higher compared to female. This could be attributed to a variety of factors, including occupational roles, work experience, or societal factors. Gender is an important factor to consider when analyzing or predicting income levels in a machine learning model."
   ]
  },
  {
   "cell_type": "markdown",
   "id": "afadc914-90a3-4888-b646-3c88c21e9ed5",
   "metadata": {},
   "source": [
    "**Model Performance**\n",
    "\n",
    "This study assessed the performance of two machine learning models, Pipeline Model and the Random Forest Classifier, in predicting income levels based on census data. The aim is to develop a machine learning model that can accurately predict income level.\n",
    "\n",
    "**Evaluation Metrics**\n",
    "\n",
    "a. Pipeline Model\n",
    "\n",
    "**Accuracy:** 0.84\n",
    "**Precision:** 0.88 (for <=50K), 0.71 (for >50K)\n",
    "**Recall:** 0.92 (for <=50K), 0.61 (for >50K)\n",
    "**F1 Score:** 0.90 (for <=50K), 0.66 (for >50K)\n",
    "\n",
    "The pipeline model provides an accuracy of 0.84%, which is decent, the recall of 0.61. This indicates that while the model has a relatively high precision (0.71%), meaning it correctly predicts positive cases most of the time, it misses a significant number of true positives (people earning >50K). The low recall suggests the model is conservative in predicting higher incomes, making fewer false positives but missing many actual high-income earners.\n",
    "\n",
    "The F1 score of 0.66% reflects the imbalance between precision and recall. Since F1 is the harmonic mean of precision and recall, a lower F1 indicates a poor balance between these two."
   ]
  },
  {
   "cell_type": "markdown",
   "id": "f1517cbe-446d-4618-ab71-5289172874e5",
   "metadata": {},
   "source": [
    "b. Random Forest Classifier\n",
    "\n",
    "**Accuracy:** 0.86\n",
    "**Precision:** 0.87 (for <=50K), 0.82 (for >50K)\n",
    "**Recall:** 0.96 (for <=50K), 0.55 (for >50K) \n",
    "**F1 Score:** 0.91 (for <=50K), 0.66 (for >50K)\n",
    "**ROC-AUC:** 0.91\n",
    "\n",
    "The Random Forest Classifier improves accuracy slightly to 0.86%. However, similar to the pipeline model, the recall for the >50K class is still quite low (0.55%). This means that the model is much better at correctly identifying people who earn <=50K but struggles to identify higher earners. This is a common issue in imbalanced datasets where the model gets biased towards the majority class.\n",
    "\n",
    "The precision for the >50K class is excellent (0.82%), indicating that when the model predicts someone earns more than 50K.      But because of the poor recall, the model fails to identify many individuals who do earn more than $50K.\n",
    "The F1 score for the >50K class is only 0.66%, reflecting the poor balance between precision and recall."
   ]
  },
  {
   "cell_type": "markdown",
   "id": "c7831d5e-3594-4871-a9dd-a878d30aec64",
   "metadata": {},
   "source": [
    "**Effectiveness of Predicting Income Level with Random Forest Classifier**\n",
    "\n",
    "**Strengths:**\n",
    "\n",
    "The Random Forest model performs reasonably well on the overall dataset, especially for the lower-income class (<=50K). It achieves high accuracy and is highly precise for identifying people earning below $50K.\n",
    "The ROC-AUC of ~0.91 indicates good ability to differentiate between the income classes, suggesting the model is relatively effective.\n",
    "\n",
    "**Weaknesses:**\n",
    "\n",
    "The Random Forest, have difficulty with the higher income class (>50K). The recall for this class is low in both models, meaning many high-income earners are missed.\n",
    "This issue can largely be attributed to class imbalance, where there are more individuals earning <=50K than those earning >50K, causing the model to favor the majority class.\n"
   ]
  },
  {
   "cell_type": "markdown",
   "id": "75547f71-63bd-4675-b67a-34df229bb876",
   "metadata": {},
   "source": [
    "**How the Model Can Be Improved:**\n",
    "\n",
    "**Improving Pipeline Model**\n",
    "1. **Class Weights:** Many machine learning models can take class_weight parameters. This can encourage the model to focus more on the minority class and improve recall.\n",
    "2. **Threshold Tuning:** By default, the model predicts the class with the highest probability (i.e., a threshold of 0.5). You can adjust this threshold to improve recall at the expense of precision. Adjusting the decision threshold to find a better trade-off between precision and recall. This could help identify more people earning >50K.\n",
    "3. **Feature Engineering:** Improving the features that go into the pipeline can significantly affect model performance. Creating **interactive features** (combinations of features that could capture new patterns). Existing data can be combined to reveal new insights. Data format can be changed to make it more useful. Uncover hidden patterns in your data. Help your model understand data better.\n",
    "4. **Resampling Techniques:** You can oversample the minority class (people earning >50K) or reducing the majority class (<=50K). A popular technique is SMOTE (Synthetic Minority Over-sampling Technique) generates sythentic examples for the minority class.\n"
   ]
  },
  {
   "cell_type": "markdown",
   "id": "41625701-08e9-4524-b9e7-f7bae54e9160",
   "metadata": {},
   "source": [
    "**Improving the Random Forest Model**\n",
    "1. **Class Weights:** Similar to pipeline model, applying class weight adjustment encourage the Random Forest to focus more on the minority class.\n",
    "2. **Tune Decision Threshold** As the pipline model, adjusting the decision threshold for the Random Forest Model can improve recall. lowering the threshold can helo the model to predict more positives.\n",
    "3. **Hyperparameter Tuning** Random Forests have several hyperparameters that can be tune to improve performance. Using GridSearch or **RandomizedSearchCV** to find optimal hyperparameters.\n",
    "4. **Feature Importance and Selection** Random Forest allows rank feature importance, which can be use to eliminate irrelevent features that may affect model performance.\n"
   ]
  },
  {
   "cell_type": "markdown",
   "id": "df83c375-e099-4882-99fc-5af5b214c050",
   "metadata": {},
   "source": [
    "**Summary**\n",
    "\n",
    "To improve both models\n",
    "1. **Adjusting class weights** to increase recall\n",
    "2. **Tune decision thresholds** to find a balance between precision and recall\n",
    "3. **Appling resampling techniques** like SMOTE if data is imbalanced.\n",
    "4. **Perform hyperparameter tuning** to optimize the model.\n",
    "5. **Considering boosting and ensemble methods** for better handling of complex patterns."
   ]
  },
  {
   "cell_type": "code",
   "execution_count": null,
   "id": "f0c623d9-eebf-4792-9917-40770bf430e5",
   "metadata": {},
   "outputs": [],
   "source": []
  }
 ],
 "metadata": {
  "kernelspec": {
   "display_name": "Python 3 (ipykernel)",
   "language": "python",
   "name": "python3"
  },
  "language_info": {
   "codemirror_mode": {
    "name": "ipython",
    "version": 3
   },
   "file_extension": ".py",
   "mimetype": "text/x-python",
   "name": "python",
   "nbconvert_exporter": "python",
   "pygments_lexer": "ipython3",
   "version": "3.12.4"
  }
 },
 "nbformat": 4,
 "nbformat_minor": 5
}
